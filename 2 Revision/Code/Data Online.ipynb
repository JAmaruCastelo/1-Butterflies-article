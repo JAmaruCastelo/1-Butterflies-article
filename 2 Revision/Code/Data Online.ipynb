{
 "cells": [
  {
   "cell_type": "code",
   "execution_count": 1,
   "id": "0ff5d757",
   "metadata": {},
   "outputs": [
    {
     "name": "stderr",
     "output_type": "stream",
     "text": [
      "C:\\Users\\amaru\\anaconda3\\envs\\data\\Lib\\site-packages\\pandas\\core\\arrays\\masked.py:60: UserWarning: Pandas requires version '1.3.6' or newer of 'bottleneck' (version '1.3.5' currently installed).\n",
      "  from pandas.core import (\n"
     ]
    }
   ],
   "source": [
    "import pandas as pd"
   ]
  },
  {
   "cell_type": "code",
   "execution_count": 2,
   "id": "389abcb9",
   "metadata": {},
   "outputs": [],
   "source": [
    "path=\"D:/0. Artculos y congresos/Butterfly article correction (Revision)/Online information 2C.xlsx\"\n",
    "data=pd.read_excel(path)"
   ]
  },
  {
   "cell_type": "code",
   "execution_count": 6,
   "id": "c48c8f4b",
   "metadata": {},
   "outputs": [
    {
     "data": {
      "text/plain": [
       "70"
      ]
     },
     "execution_count": 6,
     "metadata": {},
     "output_type": "execute_result"
    }
   ],
   "source": [
    "len(data[\"Date\"].unique()) ### se seleccionaron 70 semanas de los datos y hay mucha variacion interanual y intermensual"
   ]
  },
  {
   "cell_type": "code",
   "execution_count": 8,
   "id": "0352aa18",
   "metadata": {},
   "outputs": [],
   "source": [
    "# verificamos cada una de las fechas necesarias para el analisis\n",
    "import sqlite3 as sq\n",
    "import pandas as pd\n",
    "from collections import Counter\n",
    "import sql_m\n",
    "from datetime import datetime\n",
    "import source as so"
   ]
  },
  {
   "cell_type": "code",
   "execution_count": 9,
   "id": "b5d888df",
   "metadata": {},
   "outputs": [],
   "source": [
    "path=\"D:/0. Artculos y congresos/ButterflyCorrection/1-Butterflies-article-main/LongTermMonitoringProject.db\"\n",
    "conexion=sq.connect(path)"
   ]
  },
  {
   "cell_type": "code",
   "execution_count": 10,
   "id": "bd45280e",
   "metadata": {},
   "outputs": [],
   "source": [
    "# verificamos la tabla de esfuerzas para las siguientes fechas\n",
    "effort=sql_m.ver_tabla('butterEffortDB', conexion)\n",
    "effort['fecha_dt'] = pd.to_datetime(effort['date'], format='%Y-%m-%d')"
   ]
  },
  {
   "cell_type": "code",
   "execution_count": 14,
   "id": "9dd83e3e",
   "metadata": {},
   "outputs": [],
   "source": [
    "fechas=data[\"Date\"].unique()"
   ]
  },
  {
   "cell_type": "code",
   "execution_count": 17,
   "id": "4fb01fe0",
   "metadata": {},
   "outputs": [],
   "source": [
    "values=effort[effort[\"date\"].isin(data[\"Date\"].unique())][\"trapping\"]"
   ]
  },
  {
   "cell_type": "code",
   "execution_count": 19,
   "id": "a60a9b91",
   "metadata": {},
   "outputs": [
    {
     "data": {
      "text/plain": [
       "array(['DB5-L', 'SB1-M', 'PB4-H', 'DB5-M', 'PB4-M', 'SB1-L', 'PB4-L',\n",
       "       'DB1-L', 'SB2-L', 'DB1-M', 'PB3-M', 'PB3-L', 'SB2-M', 'DB1-H',\n",
       "       'PB3-H', 'SB2-H', 'PB1-H', 'DB2-H', 'PB1-L', 'SB3-H', 'PB2-M',\n",
       "       'SB4-M', 'PB2-H', 'SB4-L', 'DB3-L', 'PB2-L', 'DB3-H', 'DB3-M',\n",
       "       'SB4-H', 'SB6-L', 'SB6-M', 'PB5-M', 'PB5-L', 'DB6-M', 'PB5-H',\n",
       "       'SB6-H', 'DB6-L', 'PB6-H', 'PB6-L', 'SB5-L', 'SB5-M', 'PB6-M',\n",
       "       'DB4-L', 'SB5-H', 'DB4-M', 'WETLAND', 'DB2-L', 'SB3-L', 'PB1-M',\n",
       "       'SB3-M', 'DB6-H', 'STREAMB', 'SB1-H', 'DB5-H', 'SBS2', 'DB1',\n",
       "       'PB2', 'DB3', 'SB5', 'DB4', 'PB6', 'SB3', 'DB2', 'PB3', 'PB5',\n",
       "       'SB6', 'DB6', 'SBS6', 'SB4', 'SB2', 'PB1', 'SB1', 'PB4', 'DB5'],\n",
       "      dtype=object)"
      ]
     },
     "execution_count": 19,
     "metadata": {},
     "output_type": "execute_result"
    }
   ],
   "source": [
    "# Verificamos la tabla de cada una de las especies\n",
    "especies=sql_m.ver_tabla('butterTrapping', conexion)\n",
    "especies_filtradas = especies[especies[\"db_id\"].isin(values)] # seleccionamos solo las de las fechas\n",
    "# que se requieren analyzar a mejor detalle\n",
    "especies_filtradas[\"reference\"].unique()"
   ]
  },
  {
   "cell_type": "code",
   "execution_count": 20,
   "id": "3c5c8664",
   "metadata": {},
   "outputs": [],
   "source": [
    "especies_filtradas = especies_filtradas[especies_filtradas[\"reference\"].isin(['DB5-L', 'SB1-M', 'PB4-H', 'DB5-M', 'PB4-M', \n",
    "                                                                              'SB1-L', 'PB4-L','DB1-L', 'SB2-L', 'DB1-M', \n",
    "                                                                              'PB3-M', 'PB3-L', 'SB2-M', 'DB1-H','PB3-H', \n",
    "                                                                              'SB2-H', 'PB1-H', 'DB2-H', 'PB1-L', 'SB3-H', \n",
    "                                                                              'PB2-M','SB4-M', 'PB2-H', 'SB4-L', 'DB3-L', \n",
    "                                                                              'PB2-L', 'DB3-H', 'DB3-M','SB4-H', 'SB6-L', \n",
    "                                                                              'SB6-M', 'PB5-M', 'PB5-L', 'DB6-M', 'PB5-H',\n",
    "                                                                              'SB6-H', 'DB6-L', 'PB6-H', 'PB6-L', 'SB5-L', \n",
    "                                                                              'SB5-M', 'PB6-M','DB4-L', 'SB5-H', 'DB4-M', \n",
    "                                                                              'DB2-L', 'SB3-L', 'PB1-M','SB3-M', 'DB6-H', \n",
    "                                                                               'SB1-H', 'DB5-H'])]"
   ]
  },
  {
   "cell_type": "code",
   "execution_count": 26,
   "id": "be7d973b",
   "metadata": {},
   "outputs": [
    {
     "name": "stderr",
     "output_type": "stream",
     "text": [
      "C:\\Users\\amaru\\AppData\\Local\\Temp\\ipykernel_17364\\3179924184.py:2: SettingWithCopyWarning: \n",
      "A value is trying to be set on a copy of a slice from a DataFrame.\n",
      "Try using .loc[row_indexer,col_indexer] = value instead\n",
      "\n",
      "See the caveats in the documentation: https://pandas.pydata.org/pandas-docs/stable/user_guide/indexing.html#returning-a-view-versus-a-copy\n",
      "  especies_filtradas[\"butnumber\"]=pd.to_numeric(especies_filtradas[\"butnumber\"], errors=\"coerce\")\n"
     ]
    }
   ],
   "source": [
    "especies_filtradas=especies_filtradas[~(especies_filtradas[\"butnumber\"]=='nofound')]\n",
    "especies_filtradas[\"butnumber\"]=pd.to_numeric(especies_filtradas[\"butnumber\"], errors=\"coerce\")"
   ]
  },
  {
   "cell_type": "code",
   "execution_count": 27,
   "id": "b7b5aa3f",
   "metadata": {},
   "outputs": [
    {
     "name": "stderr",
     "output_type": "stream",
     "text": [
      "D:\\0. Artculos y congresos\\Butterfly article correction (Revision)\\source.py:163: SettingWithCopyWarning: \n",
      "A value is trying to be set on a copy of a slice from a DataFrame.\n",
      "Try using .loc[row_indexer,col_indexer] = value instead\n",
      "\n",
      "See the caveats in the documentation: https://pandas.pydata.org/pandas-docs/stable/user_guide/indexing.html#returning-a-view-versus-a-copy\n",
      "  dfB[newname] = a\n"
     ]
    }
   ],
   "source": [
    "# completamos con los nombres de la especie en lugar de un codigo\n",
    "sp_names=sql_m.ver_tabla('DBbutnumber', conexion)\n",
    "name=dict(zip(sp_names[\"butnumber\"], sp_names[\"species\"]))\n",
    "so.completar(especies_filtradas, name, code=\"butnumber\",newname=\"sp_name\")"
   ]
  },
  {
   "cell_type": "code",
   "execution_count": 29,
   "id": "fbb12985",
   "metadata": {},
   "outputs": [
    {
     "data": {
      "text/plain": [
       "array(['Magneuptychia modesta', 'Memphis xenocles', '',\n",
       "       'Heliconius hecale sysiphus', 'Heliconius numata bicoloratus',\n",
       "       'Memphis glauce', 'Harjesia obscura', 'Memphis pseudiphis',\n",
       "       'Memphis acidalia', 'Panacea regina', 'Diaethria clymena',\n",
       "       'Morpho theseus', 'Morpho achilles', 'Hamadryas chloe',\n",
       "       'Zaretis itys', 'Batesia hypochlora', 'Prepona laertes',\n",
       "       'Taygetis virgilia', 'Nessaea obrinus', 'Harjesia blanda',\n",
       "       'Catonephele acontius M&F', 'Memphis pithyusa', 'Memphis sp11',\n",
       "       'Lycorea halia', 'Catonephele numilia M&F', 'Posttaygetis penelea',\n",
       "       'Archaeoprepona demophon', 'Pareuptychia summandosa',\n",
       "       'Morpho menelaus', 'Adelpha jordani', 'Morpho helenor',\n",
       "       'Taygetis sylvia', 'Opsiphanes sp1', 'Adelpha boeotia',\n",
       "       'Adelpha mesentina', 'Dynamine chryseis', 'Memphis philomena',\n",
       "       'Memphis acaudata', 'Catoblepia xanthicles', 'Adelpha iphiclus',\n",
       "       'Heliconius (Laparus) doris', 'Memphis anna', 'Baeotus beotus',\n",
       "       'Prepona dexamenus', 'Baeotus aeilus', 'Temenis laothoe',\n",
       "       'Temenis pulchra', 'Narope syllabus syllabus', 'Adelpha pleasure',\n",
       "       'Opsiphanes cassina', 'Consul fabius', 'Heliconius burneyi',\n",
       "       'Osiphanes invirae', 'Agrias claudina', 'Callicore cynosura',\n",
       "       'Memphis polycarmes', 'Caeruleuptychia lobelia',\n",
       "       'Heliconius xanthocles', 'Pareuptychia ocirrhoe interjecta',\n",
       "       'Prepona sp1', 'Adelpha thesprotia', 'Eunica marsolia (phasis)',\n",
       "       'Tigridia acesta', 'Memphis offa', 'Heliconius elevatus',\n",
       "       'Heliconius numata subsp', 'Adelpha cocala cocala', 'Narope sp1',\n",
       "       'Doxocopa agathina', 'Parypthimoides undulate', 'Eunica sp1',\n",
       "       'Caligo superbus', 'Memphis praxias', 'Rhetus periander',\n",
       "       'Memphis phantes', 'Lycaenidae sp2', 'Archaeoprepona licomedes',\n",
       "       'Heliconius erato emma', 'Dynamine gisella', 'Pierella lena',\n",
       "       'Colubra dirce', 'Prepona amydon', 'Heliconius pardalinus maeon',\n",
       "       'Tithorea harmonia', 'Heliconius leucadia',\n",
       "       'Adelpha attica attica', 'Eunica bechina cechina ',\n",
       "       'Pseudodebis marpessa', 'Emesis sp1', 'Ectima lirides',\n",
       "       'Adelpha melona', 'Heliconius sara', 'Dynamine athemon',\n",
       "       'Emesis fatinella', 'Oleria sp1', 'Memphis sp1',\n",
       "       'Pyrrhogyra amphiro amphiro ', 'Adelpha capucinus capucinus',\n",
       "       'Callicore lyca aegina', 'Tithorea harmonia brunnea',\n",
       "       'Heliconius numata timaeus?', 'Adelpha cytherea', 'Cissia proba',\n",
       "       'Heliconius melpomeme aglaope', 'Fountainea ryphea',\n",
       "       'Epiphile lampethusa', 'Memphis sp4', 'Erichthodes antonina',\n",
       "       'Adelpha lycorias lara', 'Eunica sp5', 'Eunica alpais',\n",
       "       'Hyposcada anchiala subsp', 'Fountainea halice', 'Cithaerias sp1',\n",
       "       'Opoptera aorsa', 'Taygetis sp1', 'Taygetis thamyra',\n",
       "       'Cithaerias pireta', 'Prepona pseudoamphale',\n",
       "       'Polygrapha xenocrates', 'Hamaydras laodamia', 'Panacea prola',\n",
       "       'Catoblepia berecynthia berecynthia', 'Chloreuptychia herseis',\n",
       "       'Morpho sp', 'Baeotus japetus', 'Heliconius sp11', 'Sarota sp2',\n",
       "       'Adelpha erotia erotia', 'Pierella hyceta', 'Memphis sp6',\n",
       "       'Memphis basilia drucei', 'Hypna clytemnestra',\n",
       "       'Baeotus deucalion', 'Magneuptychia iris', 'Cissia terrestris',\n",
       "       'Chloreuptychia arnaca', 'Archaeoprepona amphimachus ',\n",
       "       'Euptychoides saturnus', 'Battus lycidas', 'Ypthimoides renata',\n",
       "       'Eurybia unxia', 'Adelpha serpa', 'Eunica sydonia',\n",
       "       'Amarynthis meneria', 'nofound'], dtype=object)"
      ]
     },
     "execution_count": 29,
     "metadata": {},
     "output_type": "execute_result"
    }
   ],
   "source": [
    "especies_filtradas[\"sp_name\"].unique()"
   ]
  },
  {
   "cell_type": "code",
   "execution_count": 30,
   "id": "a2b72532",
   "metadata": {},
   "outputs": [],
   "source": [
    "especies_filtradas=especies_filtradas[~(especies_filtradas[\"butnumber\"]=='nofound')]"
   ]
  },
  {
   "cell_type": "code",
   "execution_count": 35,
   "id": "8231f068",
   "metadata": {},
   "outputs": [],
   "source": [
    "# completamos las fechas utilizadas de cada uno de los datos\n",
    "name=dict(zip(effort [\"trapping\"], effort[\"date\"]))\n",
    "so.completar(especies_filtradas, name, code=\"db_id\",newname=\"start_week\")"
   ]
  },
  {
   "cell_type": "code",
   "execution_count": 37,
   "id": "bc0d2bef",
   "metadata": {},
   "outputs": [],
   "source": [
    "final=especies_filtradas[[\"reference\",\"height\",\"sp_name\",\"start_week\"]]"
   ]
  },
  {
   "cell_type": "code",
   "execution_count": 39,
   "id": "10eb5c19",
   "metadata": {},
   "outputs": [],
   "source": [
    "final=final[~(final[\"sp_name\"]=='')]"
   ]
  },
  {
   "cell_type": "code",
   "execution_count": 41,
   "id": "5de2417e",
   "metadata": {},
   "outputs": [],
   "source": [
    "final.to_csv(\"especies_seleccionadas.csv\")"
   ]
  },
  {
   "cell_type": "code",
   "execution_count": 42,
   "id": "b6434aae",
   "metadata": {},
   "outputs": [
    {
     "data": {
      "text/html": [
       "<div>\n",
       "<style scoped>\n",
       "    .dataframe tbody tr th:only-of-type {\n",
       "        vertical-align: middle;\n",
       "    }\n",
       "\n",
       "    .dataframe tbody tr th {\n",
       "        vertical-align: top;\n",
       "    }\n",
       "\n",
       "    .dataframe thead th {\n",
       "        text-align: right;\n",
       "    }\n",
       "</style>\n",
       "<table border=\"1\" class=\"dataframe\">\n",
       "  <thead>\n",
       "    <tr style=\"text-align: right;\">\n",
       "      <th></th>\n",
       "      <th>reference</th>\n",
       "      <th>height</th>\n",
       "      <th>sp_name</th>\n",
       "      <th>start_week</th>\n",
       "    </tr>\n",
       "  </thead>\n",
       "  <tbody>\n",
       "    <tr>\n",
       "      <th>45649</th>\n",
       "      <td>DB5-L</td>\n",
       "      <td>L</td>\n",
       "      <td>Magneuptychia modesta</td>\n",
       "      <td>2019-01-09</td>\n",
       "    </tr>\n",
       "    <tr>\n",
       "      <th>45650</th>\n",
       "      <td>SB1-M</td>\n",
       "      <td>M</td>\n",
       "      <td>Memphis xenocles</td>\n",
       "      <td>2019-01-09</td>\n",
       "    </tr>\n",
       "    <tr>\n",
       "      <th>45653</th>\n",
       "      <td>PB4-M</td>\n",
       "      <td>M</td>\n",
       "      <td>Heliconius hecale sysiphus</td>\n",
       "      <td>2019-01-09</td>\n",
       "    </tr>\n",
       "    <tr>\n",
       "      <th>45654</th>\n",
       "      <td>PB4-M</td>\n",
       "      <td>M</td>\n",
       "      <td>Heliconius numata bicoloratus</td>\n",
       "      <td>2019-01-09</td>\n",
       "    </tr>\n",
       "    <tr>\n",
       "      <th>45655</th>\n",
       "      <td>PB4-H</td>\n",
       "      <td>H</td>\n",
       "      <td>Memphis glauce</td>\n",
       "      <td>2019-01-09</td>\n",
       "    </tr>\n",
       "    <tr>\n",
       "      <th>...</th>\n",
       "      <td>...</td>\n",
       "      <td>...</td>\n",
       "      <td>...</td>\n",
       "      <td>...</td>\n",
       "    </tr>\n",
       "    <tr>\n",
       "      <th>52678</th>\n",
       "      <td>PB4-L</td>\n",
       "      <td>L</td>\n",
       "      <td>Narope syllabus syllabus</td>\n",
       "      <td>2023-07-26</td>\n",
       "    </tr>\n",
       "    <tr>\n",
       "      <th>52679</th>\n",
       "      <td>PB4-L</td>\n",
       "      <td>L</td>\n",
       "      <td>Narope syllabus syllabus</td>\n",
       "      <td>2023-07-26</td>\n",
       "    </tr>\n",
       "    <tr>\n",
       "      <th>52801</th>\n",
       "      <td>DB1-H</td>\n",
       "      <td>H</td>\n",
       "      <td>Eunica sydonia</td>\n",
       "      <td>2023-08-11</td>\n",
       "    </tr>\n",
       "    <tr>\n",
       "      <th>52802</th>\n",
       "      <td>DB1-H</td>\n",
       "      <td>H</td>\n",
       "      <td>Prepona laertes</td>\n",
       "      <td>2023-08-11</td>\n",
       "    </tr>\n",
       "    <tr>\n",
       "      <th>52803</th>\n",
       "      <td>DB1-H</td>\n",
       "      <td>H</td>\n",
       "      <td>Prepona laertes</td>\n",
       "      <td>2023-08-11</td>\n",
       "    </tr>\n",
       "  </tbody>\n",
       "</table>\n",
       "<p>880 rows × 4 columns</p>\n",
       "</div>"
      ],
      "text/plain": [
       "      reference height                        sp_name  start_week\n",
       "45649     DB5-L      L          Magneuptychia modesta  2019-01-09\n",
       "45650     SB1-M      M               Memphis xenocles  2019-01-09\n",
       "45653     PB4-M      M     Heliconius hecale sysiphus  2019-01-09\n",
       "45654     PB4-M      M  Heliconius numata bicoloratus  2019-01-09\n",
       "45655     PB4-H      H                 Memphis glauce  2019-01-09\n",
       "...         ...    ...                            ...         ...\n",
       "52678     PB4-L      L       Narope syllabus syllabus  2023-07-26\n",
       "52679     PB4-L      L       Narope syllabus syllabus  2023-07-26\n",
       "52801     DB1-H      H                 Eunica sydonia  2023-08-11\n",
       "52802     DB1-H      H                Prepona laertes  2023-08-11\n",
       "52803     DB1-H      H                Prepona laertes  2023-08-11\n",
       "\n",
       "[880 rows x 4 columns]"
      ]
     },
     "execution_count": 42,
     "metadata": {},
     "output_type": "execute_result"
    }
   ],
   "source": [
    "final"
   ]
  },
  {
   "cell_type": "code",
   "execution_count": 45,
   "id": "3939a657",
   "metadata": {},
   "outputs": [
    {
     "data": {
      "text/plain": [
       "145"
      ]
     },
     "execution_count": 45,
     "metadata": {},
     "output_type": "execute_result"
    }
   ],
   "source": [
    "len(final[\"sp_name\"].unique()) # 145 especies"
   ]
  }
 ],
 "metadata": {
  "kernelspec": {
   "display_name": "Python 3 (ipykernel)",
   "language": "python",
   "name": "python3"
  },
  "language_info": {
   "codemirror_mode": {
    "name": "ipython",
    "version": 3
   },
   "file_extension": ".py",
   "mimetype": "text/x-python",
   "name": "python",
   "nbconvert_exporter": "python",
   "pygments_lexer": "ipython3",
   "version": "3.11.3"
  }
 },
 "nbformat": 4,
 "nbformat_minor": 5
}
